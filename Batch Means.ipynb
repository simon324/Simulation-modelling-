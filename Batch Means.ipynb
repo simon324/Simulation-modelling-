{
 "cells": [
  {
   "cell_type": "code",
   "execution_count": 80,
   "metadata": {},
   "outputs": [],
   "source": [
    "import numpy as np\n",
    "import pandas as pd\n",
    "import matplotlib.pyplot as plt\n",
    "import statistics\n",
    "import statsmodels.api as sm"
   ]
  },
  {
   "cell_type": "code",
   "execution_count": 81,
   "metadata": {},
   "outputs": [],
   "source": [
    "moving_averages = pd.read_excel(\"moving_average__S14.xlsx\")"
   ]
  },
  {
   "cell_type": "code",
   "execution_count": 82,
   "metadata": {},
   "outputs": [
    {
     "data": {
      "text/html": [
       "<div>\n",
       "<style scoped>\n",
       "    .dataframe tbody tr th:only-of-type {\n",
       "        vertical-align: middle;\n",
       "    }\n",
       "\n",
       "    .dataframe tbody tr th {\n",
       "        vertical-align: top;\n",
       "    }\n",
       "\n",
       "    .dataframe thead th {\n",
       "        text-align: right;\n",
       "    }\n",
       "</style>\n",
       "<table border=\"1\" class=\"dataframe\">\n",
       "  <thead>\n",
       "    <tr style=\"text-align: right;\">\n",
       "      <th></th>\n",
       "      <th>week</th>\n",
       "      <th>elAppWT</th>\n",
       "      <th>elScanWT</th>\n",
       "      <th>urScanWT</th>\n",
       "      <th>OT</th>\n",
       "      <th>elTardiness</th>\n",
       "    </tr>\n",
       "  </thead>\n",
       "  <tbody>\n",
       "    <tr>\n",
       "      <th>0</th>\n",
       "      <td>0</td>\n",
       "      <td>11.26</td>\n",
       "      <td>0.07</td>\n",
       "      <td>3.85</td>\n",
       "      <td>0.92</td>\n",
       "      <td>0.013</td>\n",
       "    </tr>\n",
       "    <tr>\n",
       "      <th>1</th>\n",
       "      <td>1</td>\n",
       "      <td>11.60</td>\n",
       "      <td>0.06</td>\n",
       "      <td>2.74</td>\n",
       "      <td>0.90</td>\n",
       "      <td>0.012</td>\n",
       "    </tr>\n",
       "    <tr>\n",
       "      <th>2</th>\n",
       "      <td>2</td>\n",
       "      <td>20.77</td>\n",
       "      <td>0.09</td>\n",
       "      <td>2.57</td>\n",
       "      <td>0.90</td>\n",
       "      <td>0.015</td>\n",
       "    </tr>\n",
       "    <tr>\n",
       "      <th>3</th>\n",
       "      <td>3</td>\n",
       "      <td>27.29</td>\n",
       "      <td>0.05</td>\n",
       "      <td>3.13</td>\n",
       "      <td>0.83</td>\n",
       "      <td>0.012</td>\n",
       "    </tr>\n",
       "    <tr>\n",
       "      <th>4</th>\n",
       "      <td>4</td>\n",
       "      <td>30.52</td>\n",
       "      <td>0.05</td>\n",
       "      <td>3.59</td>\n",
       "      <td>1.14</td>\n",
       "      <td>0.013</td>\n",
       "    </tr>\n",
       "    <tr>\n",
       "      <th>...</th>\n",
       "      <td>...</td>\n",
       "      <td>...</td>\n",
       "      <td>...</td>\n",
       "      <td>...</td>\n",
       "      <td>...</td>\n",
       "      <td>...</td>\n",
       "    </tr>\n",
       "    <tr>\n",
       "      <th>9995</th>\n",
       "      <td>9995</td>\n",
       "      <td>14.54</td>\n",
       "      <td>0.06</td>\n",
       "      <td>2.66</td>\n",
       "      <td>0.97</td>\n",
       "      <td>0.014</td>\n",
       "    </tr>\n",
       "    <tr>\n",
       "      <th>9996</th>\n",
       "      <td>9996</td>\n",
       "      <td>13.28</td>\n",
       "      <td>0.05</td>\n",
       "      <td>2.34</td>\n",
       "      <td>0.06</td>\n",
       "      <td>0.013</td>\n",
       "    </tr>\n",
       "    <tr>\n",
       "      <th>9997</th>\n",
       "      <td>9997</td>\n",
       "      <td>7.13</td>\n",
       "      <td>0.06</td>\n",
       "      <td>3.37</td>\n",
       "      <td>1.85</td>\n",
       "      <td>0.013</td>\n",
       "    </tr>\n",
       "    <tr>\n",
       "      <th>9998</th>\n",
       "      <td>9998</td>\n",
       "      <td>17.73</td>\n",
       "      <td>0.07</td>\n",
       "      <td>3.63</td>\n",
       "      <td>1.25</td>\n",
       "      <td>0.009</td>\n",
       "    </tr>\n",
       "    <tr>\n",
       "      <th>9999</th>\n",
       "      <td>9999</td>\n",
       "      <td>33.17</td>\n",
       "      <td>0.05</td>\n",
       "      <td>4.39</td>\n",
       "      <td>0.89</td>\n",
       "      <td>0.010</td>\n",
       "    </tr>\n",
       "  </tbody>\n",
       "</table>\n",
       "<p>10000 rows × 6 columns</p>\n",
       "</div>"
      ],
      "text/plain": [
       "      week     elAppWT    elScanWT    urScanWT    OT    elTardiness \n",
       "0          0      11.26        0.07        3.85  0.92          0.013\n",
       "1          1      11.60        0.06        2.74  0.90          0.012\n",
       "2          2      20.77        0.09        2.57  0.90          0.015\n",
       "3          3      27.29        0.05        3.13  0.83          0.012\n",
       "4          4      30.52        0.05        3.59  1.14          0.013\n",
       "...      ...        ...         ...         ...   ...            ...\n",
       "9995    9995      14.54        0.06        2.66  0.97          0.014\n",
       "9996    9996      13.28        0.05        2.34  0.06          0.013\n",
       "9997    9997       7.13        0.06        3.37  1.85          0.013\n",
       "9998    9998      17.73        0.07        3.63  1.25          0.009\n",
       "9999    9999      33.17        0.05        4.39  0.89          0.010\n",
       "\n",
       "[10000 rows x 6 columns]"
      ]
     },
     "execution_count": 82,
     "metadata": {},
     "output_type": "execute_result"
    }
   ],
   "source": [
    "df = pd.DataFrame(moving_averages)\n",
    "df"
   ]
  },
  {
   "cell_type": "code",
   "execution_count": 83,
   "metadata": {},
   "outputs": [],
   "source": [
    "df.drop(columns=df.columns[0], axis=1, inplace=True)"
   ]
  },
  {
   "cell_type": "code",
   "execution_count": 84,
   "metadata": {},
   "outputs": [
    {
     "data": {
      "text/html": [
       "<div>\n",
       "<style scoped>\n",
       "    .dataframe tbody tr th:only-of-type {\n",
       "        vertical-align: middle;\n",
       "    }\n",
       "\n",
       "    .dataframe tbody tr th {\n",
       "        vertical-align: top;\n",
       "    }\n",
       "\n",
       "    .dataframe thead th {\n",
       "        text-align: right;\n",
       "    }\n",
       "</style>\n",
       "<table border=\"1\" class=\"dataframe\">\n",
       "  <thead>\n",
       "    <tr style=\"text-align: right;\">\n",
       "      <th></th>\n",
       "      <th>elAppWT</th>\n",
       "      <th>elScanWT</th>\n",
       "      <th>urScanWT</th>\n",
       "      <th>OT</th>\n",
       "      <th>elTardiness</th>\n",
       "    </tr>\n",
       "  </thead>\n",
       "  <tbody>\n",
       "    <tr>\n",
       "      <th>0</th>\n",
       "      <td>11.26</td>\n",
       "      <td>0.07</td>\n",
       "      <td>3.85</td>\n",
       "      <td>0.92</td>\n",
       "      <td>0.013</td>\n",
       "    </tr>\n",
       "    <tr>\n",
       "      <th>1</th>\n",
       "      <td>11.60</td>\n",
       "      <td>0.06</td>\n",
       "      <td>2.74</td>\n",
       "      <td>0.90</td>\n",
       "      <td>0.012</td>\n",
       "    </tr>\n",
       "    <tr>\n",
       "      <th>2</th>\n",
       "      <td>20.77</td>\n",
       "      <td>0.09</td>\n",
       "      <td>2.57</td>\n",
       "      <td>0.90</td>\n",
       "      <td>0.015</td>\n",
       "    </tr>\n",
       "    <tr>\n",
       "      <th>3</th>\n",
       "      <td>27.29</td>\n",
       "      <td>0.05</td>\n",
       "      <td>3.13</td>\n",
       "      <td>0.83</td>\n",
       "      <td>0.012</td>\n",
       "    </tr>\n",
       "    <tr>\n",
       "      <th>4</th>\n",
       "      <td>30.52</td>\n",
       "      <td>0.05</td>\n",
       "      <td>3.59</td>\n",
       "      <td>1.14</td>\n",
       "      <td>0.013</td>\n",
       "    </tr>\n",
       "    <tr>\n",
       "      <th>...</th>\n",
       "      <td>...</td>\n",
       "      <td>...</td>\n",
       "      <td>...</td>\n",
       "      <td>...</td>\n",
       "      <td>...</td>\n",
       "    </tr>\n",
       "    <tr>\n",
       "      <th>9995</th>\n",
       "      <td>14.54</td>\n",
       "      <td>0.06</td>\n",
       "      <td>2.66</td>\n",
       "      <td>0.97</td>\n",
       "      <td>0.014</td>\n",
       "    </tr>\n",
       "    <tr>\n",
       "      <th>9996</th>\n",
       "      <td>13.28</td>\n",
       "      <td>0.05</td>\n",
       "      <td>2.34</td>\n",
       "      <td>0.06</td>\n",
       "      <td>0.013</td>\n",
       "    </tr>\n",
       "    <tr>\n",
       "      <th>9997</th>\n",
       "      <td>7.13</td>\n",
       "      <td>0.06</td>\n",
       "      <td>3.37</td>\n",
       "      <td>1.85</td>\n",
       "      <td>0.013</td>\n",
       "    </tr>\n",
       "    <tr>\n",
       "      <th>9998</th>\n",
       "      <td>17.73</td>\n",
       "      <td>0.07</td>\n",
       "      <td>3.63</td>\n",
       "      <td>1.25</td>\n",
       "      <td>0.009</td>\n",
       "    </tr>\n",
       "    <tr>\n",
       "      <th>9999</th>\n",
       "      <td>33.17</td>\n",
       "      <td>0.05</td>\n",
       "      <td>4.39</td>\n",
       "      <td>0.89</td>\n",
       "      <td>0.010</td>\n",
       "    </tr>\n",
       "  </tbody>\n",
       "</table>\n",
       "<p>10000 rows × 5 columns</p>\n",
       "</div>"
      ],
      "text/plain": [
       "       elAppWT    elScanWT    urScanWT    OT    elTardiness \n",
       "0         11.26        0.07        3.85  0.92          0.013\n",
       "1         11.60        0.06        2.74  0.90          0.012\n",
       "2         20.77        0.09        2.57  0.90          0.015\n",
       "3         27.29        0.05        3.13  0.83          0.012\n",
       "4         30.52        0.05        3.59  1.14          0.013\n",
       "...         ...         ...         ...   ...            ...\n",
       "9995      14.54        0.06        2.66  0.97          0.014\n",
       "9996      13.28        0.05        2.34  0.06          0.013\n",
       "9997       7.13        0.06        3.37  1.85          0.013\n",
       "9998      17.73        0.07        3.63  1.25          0.009\n",
       "9999      33.17        0.05        4.39  0.89          0.010\n",
       "\n",
       "[10000 rows x 5 columns]"
      ]
     },
     "execution_count": 84,
     "metadata": {},
     "output_type": "execute_result"
    }
   ],
   "source": [
    "df"
   ]
  },
  {
   "cell_type": "code",
   "execution_count": 85,
   "metadata": {},
   "outputs": [
    {
     "data": {
      "text/plain": [
       "<AxesSubplot:>"
      ]
     },
     "execution_count": 85,
     "metadata": {},
     "output_type": "execute_result"
    },
    {
     "data": {
      "image/png": "[encoded data removed]",
      "text/plain": [
       "<Figure size 1152x1152 with 1 Axes>"
      ]
     },
     "metadata": {
      "needs_background": "light"
     },
     "output_type": "display_data"
    }
   ],
   "source": [
    "df.plot(y=df.columns[0],figsize=(16,16))"
   ]
  },
  {
   "cell_type": "code",
   "execution_count": 86,
   "metadata": {},
   "outputs": [],
   "source": [
    "df2 = df.loc[350:9999]"
   ]
  },
  {
   "cell_type": "code",
   "execution_count": 87,
   "metadata": {},
   "outputs": [
    {
     "data": {
      "text/html": [
       "<div>\n",
       "<style scoped>\n",
       "    .dataframe tbody tr th:only-of-type {\n",
       "        vertical-align: middle;\n",
       "    }\n",
       "\n",
       "    .dataframe tbody tr th {\n",
       "        vertical-align: top;\n",
       "    }\n",
       "\n",
       "    .dataframe thead th {\n",
       "        text-align: right;\n",
       "    }\n",
       "</style>\n",
       "<table border=\"1\" class=\"dataframe\">\n",
       "  <thead>\n",
       "    <tr style=\"text-align: right;\">\n",
       "      <th></th>\n",
       "      <th>elAppWT</th>\n",
       "      <th>elScanWT</th>\n",
       "      <th>urScanWT</th>\n",
       "      <th>OT</th>\n",
       "      <th>elTardiness</th>\n",
       "    </tr>\n",
       "  </thead>\n",
       "  <tbody>\n",
       "    <tr>\n",
       "      <th>350</th>\n",
       "      <td>10.45</td>\n",
       "      <td>0.06</td>\n",
       "      <td>2.47</td>\n",
       "      <td>0.22</td>\n",
       "      <td>0.010</td>\n",
       "    </tr>\n",
       "    <tr>\n",
       "      <th>351</th>\n",
       "      <td>8.48</td>\n",
       "      <td>0.05</td>\n",
       "      <td>2.98</td>\n",
       "      <td>0.34</td>\n",
       "      <td>0.014</td>\n",
       "    </tr>\n",
       "    <tr>\n",
       "      <th>352</th>\n",
       "      <td>7.32</td>\n",
       "      <td>0.07</td>\n",
       "      <td>1.93</td>\n",
       "      <td>0.13</td>\n",
       "      <td>0.016</td>\n",
       "    </tr>\n",
       "    <tr>\n",
       "      <th>353</th>\n",
       "      <td>7.58</td>\n",
       "      <td>0.08</td>\n",
       "      <td>2.75</td>\n",
       "      <td>0.85</td>\n",
       "      <td>0.014</td>\n",
       "    </tr>\n",
       "    <tr>\n",
       "      <th>354</th>\n",
       "      <td>12.38</td>\n",
       "      <td>0.05</td>\n",
       "      <td>2.53</td>\n",
       "      <td>1.48</td>\n",
       "      <td>0.013</td>\n",
       "    </tr>\n",
       "    <tr>\n",
       "      <th>...</th>\n",
       "      <td>...</td>\n",
       "      <td>...</td>\n",
       "      <td>...</td>\n",
       "      <td>...</td>\n",
       "      <td>...</td>\n",
       "    </tr>\n",
       "    <tr>\n",
       "      <th>9995</th>\n",
       "      <td>14.54</td>\n",
       "      <td>0.06</td>\n",
       "      <td>2.66</td>\n",
       "      <td>0.97</td>\n",
       "      <td>0.014</td>\n",
       "    </tr>\n",
       "    <tr>\n",
       "      <th>9996</th>\n",
       "      <td>13.28</td>\n",
       "      <td>0.05</td>\n",
       "      <td>2.34</td>\n",
       "      <td>0.06</td>\n",
       "      <td>0.013</td>\n",
       "    </tr>\n",
       "    <tr>\n",
       "      <th>9997</th>\n",
       "      <td>7.13</td>\n",
       "      <td>0.06</td>\n",
       "      <td>3.37</td>\n",
       "      <td>1.85</td>\n",
       "      <td>0.013</td>\n",
       "    </tr>\n",
       "    <tr>\n",
       "      <th>9998</th>\n",
       "      <td>17.73</td>\n",
       "      <td>0.07</td>\n",
       "      <td>3.63</td>\n",
       "      <td>1.25</td>\n",
       "      <td>0.009</td>\n",
       "    </tr>\n",
       "    <tr>\n",
       "      <th>9999</th>\n",
       "      <td>33.17</td>\n",
       "      <td>0.05</td>\n",
       "      <td>4.39</td>\n",
       "      <td>0.89</td>\n",
       "      <td>0.010</td>\n",
       "    </tr>\n",
       "  </tbody>\n",
       "</table>\n",
       "<p>9650 rows × 5 columns</p>\n",
       "</div>"
      ],
      "text/plain": [
       "       elAppWT    elScanWT    urScanWT    OT    elTardiness \n",
       "350       10.45        0.06        2.47  0.22          0.010\n",
       "351        8.48        0.05        2.98  0.34          0.014\n",
       "352        7.32        0.07        1.93  0.13          0.016\n",
       "353        7.58        0.08        2.75  0.85          0.014\n",
       "354       12.38        0.05        2.53  1.48          0.013\n",
       "...         ...         ...         ...   ...            ...\n",
       "9995      14.54        0.06        2.66  0.97          0.014\n",
       "9996      13.28        0.05        2.34  0.06          0.013\n",
       "9997       7.13        0.06        3.37  1.85          0.013\n",
       "9998      17.73        0.07        3.63  1.25          0.009\n",
       "9999      33.17        0.05        4.39  0.89          0.010\n",
       "\n",
       "[9650 rows x 5 columns]"
      ]
     },
     "execution_count": 87,
     "metadata": {},
     "output_type": "execute_result"
    }
   ],
   "source": [
    "df2"
   ]
  },
  {
   "cell_type": "code",
   "execution_count": 108,
   "metadata": {},
   "outputs": [
    {
     "data": {
      "text/plain": [
       "[' elAppWT ', ' elScanWT ', ' urScanWT ', ' OT ', ' elTardiness ']"
      ]
     },
     "execution_count": 108,
     "metadata": {},
     "output_type": "execute_result"
    }
   ],
   "source": [
    "list(df2.columns.values)"
   ]
  },
  {
   "cell_type": "code",
   "execution_count": 110,
   "metadata": {},
   "outputs": [
    {
     "data": {
      "text/plain": [
       "350     10.45\n",
       "351      8.48\n",
       "352      7.32\n",
       "353      7.58\n",
       "354     12.38\n",
       "        ...  \n",
       "9995    14.54\n",
       "9996    13.28\n",
       "9997     7.13\n",
       "9998    17.73\n",
       "9999    33.17\n",
       "Name: elAppWT, Length: 9650, dtype: float64"
      ]
     },
     "execution_count": 110,
     "metadata": {},
     "output_type": "execute_result"
    }
   ],
   "source": [
    "df2.columns = ['elAppWT',\"elScanWT\",\"urScanWT\",\"OT\",\"elTardiness\"]\n",
    "df2['elAppWT']"
   ]
  },
  {
   "cell_type": "code",
   "execution_count": 114,
   "metadata": {},
   "outputs": [],
   "source": [
    "df2.loc[:,'mean'] = mean\n"
   ]
  },
  {
   "cell_type": "code",
   "execution_count": 121,
   "metadata": {},
   "outputs": [
    {
     "name": "stderr",
     "output_type": "stream",
     "text": [
      "<ipython-input-121-de8cc7b1f0ba>:1: SettingWithCopyWarning: \n",
      "A value is trying to be set on a copy of a slice from a DataFrame.\n",
      "Try using .loc[row_indexer,col_indexer] = value instead\n",
      "\n",
      "See the caveats in the documentation: https://pandas.pydata.org/pandas-docs/stable/user_guide/indexing.html#returning-a-view-versus-a-copy\n",
      "  df2['res'] = abs(df2['elAppWT']-df2['mean'])\n"
     ]
    }
   ],
   "source": [
    "df2['res'] = abs(df2['elAppWT']-df2['mean'])"
   ]
  },
  {
   "cell_type": "code",
   "execution_count": 146,
   "metadata": {},
   "outputs": [],
   "source": [
    "def Jungbox(lag):\n",
    "    output = sm.stats.acorr_ljungbox(df2['res'], lags=[lag], return_df=True)\n",
    "    while(output['lb_pvalue'].values < 0.05):\n",
    "        lag = lag + 1\n",
    "    return lag"
   ]
  },
  {
   "cell_type": "code",
   "execution_count": 147,
   "metadata": {},
   "outputs": [
    {
     "ename": "KeyboardInterrupt",
     "evalue": "",
     "output_type": "error",
     "traceback": [
      "\u001b[1;31m---------------------------------------------------------------------------\u001b[0m",
      "\u001b[1;31mKeyboardInterrupt\u001b[0m                         Traceback (most recent call last)",
      "\u001b[1;32m<ipython-input-147-34de6ea7e5a9>\u001b[0m in \u001b[0;36m<module>\u001b[1;34m\u001b[0m\n\u001b[1;32m----> 1\u001b[1;33m \u001b[0mJungbox\u001b[0m\u001b[1;33m(\u001b[0m\u001b[1;36m5\u001b[0m\u001b[1;33m)\u001b[0m\u001b[1;33m\u001b[0m\u001b[1;33m\u001b[0m\u001b[0m\n\u001b[0m",
      "\u001b[1;32m<ipython-input-146-0fe06150cbb0>\u001b[0m in \u001b[0;36mJungbox\u001b[1;34m(lag)\u001b[0m\n\u001b[0;32m      1\u001b[0m \u001b[1;32mdef\u001b[0m \u001b[0mJungbox\u001b[0m\u001b[1;33m(\u001b[0m\u001b[0mlag\u001b[0m\u001b[1;33m)\u001b[0m\u001b[1;33m:\u001b[0m\u001b[1;33m\u001b[0m\u001b[1;33m\u001b[0m\u001b[0m\n\u001b[0;32m      2\u001b[0m     \u001b[0moutput\u001b[0m \u001b[1;33m=\u001b[0m \u001b[0msm\u001b[0m\u001b[1;33m.\u001b[0m\u001b[0mstats\u001b[0m\u001b[1;33m.\u001b[0m\u001b[0macorr_ljungbox\u001b[0m\u001b[1;33m(\u001b[0m\u001b[0mdf2\u001b[0m\u001b[1;33m[\u001b[0m\u001b[1;34m'res'\u001b[0m\u001b[1;33m]\u001b[0m\u001b[1;33m,\u001b[0m \u001b[0mlags\u001b[0m\u001b[1;33m=\u001b[0m\u001b[1;33m[\u001b[0m\u001b[0mlag\u001b[0m\u001b[1;33m]\u001b[0m\u001b[1;33m,\u001b[0m \u001b[0mreturn_df\u001b[0m\u001b[1;33m=\u001b[0m\u001b[1;32mTrue\u001b[0m\u001b[1;33m)\u001b[0m\u001b[1;33m\u001b[0m\u001b[1;33m\u001b[0m\u001b[0m\n\u001b[1;32m----> 3\u001b[1;33m     \u001b[1;32mwhile\u001b[0m\u001b[1;33m(\u001b[0m\u001b[0moutput\u001b[0m\u001b[1;33m[\u001b[0m\u001b[1;34m'lb_pvalue'\u001b[0m\u001b[1;33m]\u001b[0m\u001b[1;33m.\u001b[0m\u001b[0mvalues\u001b[0m \u001b[1;33m<\u001b[0m \u001b[1;36m0.05\u001b[0m\u001b[1;33m)\u001b[0m\u001b[1;33m:\u001b[0m\u001b[1;33m\u001b[0m\u001b[1;33m\u001b[0m\u001b[0m\n\u001b[0m\u001b[0;32m      4\u001b[0m         \u001b[0mlag\u001b[0m \u001b[1;33m=\u001b[0m \u001b[0mlag\u001b[0m \u001b[1;33m+\u001b[0m \u001b[1;36m1\u001b[0m\u001b[1;33m\u001b[0m\u001b[1;33m\u001b[0m\u001b[0m\n\u001b[0;32m      5\u001b[0m     \u001b[1;32mreturn\u001b[0m \u001b[0mlag\u001b[0m\u001b[1;33m\u001b[0m\u001b[1;33m\u001b[0m\u001b[0m\n",
      "\u001b[1;32m~\\anaconda3\\lib\\site-packages\\pandas\\core\\series.py\u001b[0m in \u001b[0;36mvalues\u001b[1;34m(self)\u001b[0m\n\u001b[0;32m    536\u001b[0m                '2013-01-03T05:00:00.000000000'], dtype='datetime64[ns]')\n\u001b[0;32m    537\u001b[0m         \"\"\"\n\u001b[1;32m--> 538\u001b[1;33m         \u001b[1;32mreturn\u001b[0m \u001b[0mself\u001b[0m\u001b[1;33m.\u001b[0m\u001b[0m_mgr\u001b[0m\u001b[1;33m.\u001b[0m\u001b[0mexternal_values\u001b[0m\u001b[1;33m(\u001b[0m\u001b[1;33m)\u001b[0m\u001b[1;33m\u001b[0m\u001b[1;33m\u001b[0m\u001b[0m\n\u001b[0m\u001b[0;32m    539\u001b[0m \u001b[1;33m\u001b[0m\u001b[0m\n\u001b[0;32m    540\u001b[0m     \u001b[1;33m@\u001b[0m\u001b[0mproperty\u001b[0m\u001b[1;33m\u001b[0m\u001b[1;33m\u001b[0m\u001b[0m\n",
      "\u001b[1;31mKeyboardInterrupt\u001b[0m: "
     ]
    }
   ],
   "source": [
    "Jungbox(5)"
   ]
  },
  {
   "cell_type": "code",
   "execution_count": 156,
   "metadata": {},
   "outputs": [
    {
     "data": {
      "text/html": [
       "<div>\n",
       "<style scoped>\n",
       "    .dataframe tbody tr th:only-of-type {\n",
       "        vertical-align: middle;\n",
       "    }\n",
       "\n",
       "    .dataframe tbody tr th {\n",
       "        vertical-align: top;\n",
       "    }\n",
       "\n",
       "    .dataframe thead th {\n",
       "        text-align: right;\n",
       "    }\n",
       "</style>\n",
       "<table border=\"1\" class=\"dataframe\">\n",
       "  <thead>\n",
       "    <tr style=\"text-align: right;\">\n",
       "      <th></th>\n",
       "      <th>lb_stat</th>\n",
       "      <th>lb_pvalue</th>\n",
       "    </tr>\n",
       "  </thead>\n",
       "  <tbody>\n",
       "    <tr>\n",
       "      <th>9000</th>\n",
       "      <td>46900.010749</td>\n",
       "      <td>0.0</td>\n",
       "    </tr>\n",
       "  </tbody>\n",
       "</table>\n",
       "</div>"
      ],
      "text/plain": [
       "           lb_stat  lb_pvalue\n",
       "9000  46900.010749        0.0"
      ]
     },
     "execution_count": 156,
     "metadata": {},
     "output_type": "execute_result"
    }
   ],
   "source": [
    "sm.stats.acorr_ljungbox(df2['res'], lags=[9000], return_df=True)"
   ]
  },
  {
   "cell_type": "code",
   "execution_count": 142,
   "metadata": {},
   "outputs": [
    {
     "name": "stdout",
     "output_type": "stream",
     "text": [
      "4\n"
     ]
    }
   ],
   "source": [
    "if(output['lb_pvalue'].values < 0.5):\n",
    "    print('4')"
   ]
  },
  {
   "cell_type": "code",
   "execution_count": 78,
   "metadata": {},
   "outputs": [
    {
     "data": {
      "text/plain": [
       "0.22953521592183446"
      ]
     },
     "execution_count": 78,
     "metadata": {},
     "output_type": "execute_result"
    }
   ],
   "source": []
  }
 ],
 "metadata": {
  "kernelspec": {
   "display_name": "Python 3",
   "language": "python",
   "name": "python3"
  },
  "language_info": {
   "codemirror_mode": {
    "name": "ipython",
    "version": 3
   },
   "file_extension": ".py",
   "mimetype": "text/x-python",
   "name": "python",
   "nbconvert_exporter": "python",
   "pygments_lexer": "ipython3",
   "version": "3.8.5"
  }
 },
 "nbformat": 4,
 "nbformat_minor": 4
}
